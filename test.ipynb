{
 "cells": [
  {
   "cell_type": "code",
   "execution_count": 1,
   "metadata": {},
   "outputs": [],
   "source": [
    "import numpy as np"
   ]
  },
  {
   "cell_type": "code",
   "execution_count": 19,
   "metadata": {},
   "outputs": [],
   "source": [
    "a = np.random.rand(5,5)"
   ]
  },
  {
   "cell_type": "code",
   "execution_count": 25,
   "metadata": {},
   "outputs": [
    {
     "data": {
      "text/plain": [
       "array([[0.15882018, 0.02341125, 0.67340468, 0.43125541, 0.37768021],\n",
       "       [0.20604715, 0.86290239, 0.03652516, 0.75366983, 0.07213605],\n",
       "       [0.7638246 , 0.22285216, 0.23194177, 0.93596646, 0.80242649],\n",
       "       [0.80075855, 0.54817604, 0.68156563, 0.92419133, 0.49439505],\n",
       "       [0.48737463, 0.47788803, 0.86758839, 0.69847636, 0.54889312]])"
      ]
     },
     "execution_count": 25,
     "metadata": {},
     "output_type": "execute_result"
    }
   ],
   "source": [
    "a"
   ]
  },
  {
   "cell_type": "code",
   "execution_count": 28,
   "metadata": {},
   "outputs": [
    {
     "data": {
      "text/plain": [
       "array([[0.48737463, 0.80075855, 0.7638246 , 0.20604715, 0.15882018],\n",
       "       [0.47788803, 0.54817604, 0.22285216, 0.86290239, 0.02341125],\n",
       "       [0.86758839, 0.68156563, 0.23194177, 0.03652516, 0.67340468],\n",
       "       [0.69847636, 0.92419133, 0.93596646, 0.75366983, 0.43125541],\n",
       "       [0.54889312, 0.49439505, 0.80242649, 0.07213605, 0.37768021]])"
      ]
     },
     "execution_count": 28,
     "metadata": {},
     "output_type": "execute_result"
    }
   ],
   "source": [
    "np.rot90(a, k=3)"
   ]
  },
  {
   "cell_type": "code",
   "execution_count": 10,
   "metadata": {},
   "outputs": [
    {
     "data": {
      "text/plain": [
       "5"
      ]
     },
     "execution_count": 10,
     "metadata": {},
     "output_type": "execute_result"
    }
   ],
   "source": [
    "int(5/1)"
   ]
  }
 ],
 "metadata": {
  "interpreter": {
   "hash": "a8cac65c65fb318ab37da5ae12fe2d7c7716d2b1175dd81bcbd871f4c4902836"
  },
  "kernelspec": {
   "display_name": "Python 3.9.7 ('fml')",
   "language": "python",
   "name": "python3"
  },
  "language_info": {
   "codemirror_mode": {
    "name": "ipython",
    "version": 3
   },
   "file_extension": ".py",
   "mimetype": "text/x-python",
   "name": "python",
   "nbconvert_exporter": "python",
   "pygments_lexer": "ipython3",
   "version": "3.9.7"
  },
  "orig_nbformat": 4
 },
 "nbformat": 4,
 "nbformat_minor": 2
}
