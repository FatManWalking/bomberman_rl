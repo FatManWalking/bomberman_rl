{
 "cells": [
  {
   "cell_type": "code",
   "execution_count": 30,
   "id": "055ceb57-f9e9-4f6a-8dc9-351be21a9120",
   "metadata": {},
   "outputs": [],
   "source": [
    "from collections import deque\n",
    "from random import sample\n",
    "import numpy as np\n",
    "from math import cos, sin, pi\n",
    "\n",
    "transitions = deque(maxlen=20)"
   ]
  },
  {
   "cell_type": "code",
   "execution_count": 3,
   "id": "54bbbba3-f852-43a7-9c85-818f749ea834",
   "metadata": {},
   "outputs": [],
   "source": [
    "transitions.append([1,2,3])"
   ]
  },
  {
   "cell_type": "code",
   "execution_count": 4,
   "id": "6651b105-6d03-48bf-aa3d-4eee3f7fcadb",
   "metadata": {},
   "outputs": [],
   "source": [
    "transitions.append([3,3,3])"
   ]
  },
  {
   "cell_type": "code",
   "execution_count": 5,
   "id": "91b41eec-94cb-4b40-ac05-e7a4a63baef3",
   "metadata": {},
   "outputs": [
    {
     "ename": "ValueError",
     "evalue": "Sample larger than population or is negative",
     "output_type": "error",
     "traceback": [
      "\u001b[1;31m---------------------------------------------------------------------------\u001b[0m",
      "\u001b[1;31mValueError\u001b[0m                                Traceback (most recent call last)",
      "\u001b[1;32m~\\AppData\\Local\\Temp/ipykernel_38320/1037074114.py\u001b[0m in \u001b[0;36m<module>\u001b[1;34m\u001b[0m\n\u001b[1;32m----> 1\u001b[1;33m \u001b[0msample\u001b[0m\u001b[1;33m(\u001b[0m\u001b[0mtransitions\u001b[0m\u001b[1;33m,\u001b[0m \u001b[1;36m10\u001b[0m\u001b[1;33m)\u001b[0m\u001b[1;33m\u001b[0m\u001b[1;33m\u001b[0m\u001b[0m\n\u001b[0m",
      "\u001b[1;32mD:\\Programme\\anaconda3\\envs\\fml\\lib\\random.py\u001b[0m in \u001b[0;36msample\u001b[1;34m(self, population, k, counts)\u001b[0m\n\u001b[0;32m    447\u001b[0m         \u001b[0mrandbelow\u001b[0m \u001b[1;33m=\u001b[0m \u001b[0mself\u001b[0m\u001b[1;33m.\u001b[0m\u001b[0m_randbelow\u001b[0m\u001b[1;33m\u001b[0m\u001b[1;33m\u001b[0m\u001b[0m\n\u001b[0;32m    448\u001b[0m         \u001b[1;32mif\u001b[0m \u001b[1;32mnot\u001b[0m \u001b[1;36m0\u001b[0m \u001b[1;33m<=\u001b[0m \u001b[0mk\u001b[0m \u001b[1;33m<=\u001b[0m \u001b[0mn\u001b[0m\u001b[1;33m:\u001b[0m\u001b[1;33m\u001b[0m\u001b[1;33m\u001b[0m\u001b[0m\n\u001b[1;32m--> 449\u001b[1;33m             \u001b[1;32mraise\u001b[0m \u001b[0mValueError\u001b[0m\u001b[1;33m(\u001b[0m\u001b[1;34m\"Sample larger than population or is negative\"\u001b[0m\u001b[1;33m)\u001b[0m\u001b[1;33m\u001b[0m\u001b[1;33m\u001b[0m\u001b[0m\n\u001b[0m\u001b[0;32m    450\u001b[0m         \u001b[0mresult\u001b[0m \u001b[1;33m=\u001b[0m \u001b[1;33m[\u001b[0m\u001b[1;32mNone\u001b[0m\u001b[1;33m]\u001b[0m \u001b[1;33m*\u001b[0m \u001b[0mk\u001b[0m\u001b[1;33m\u001b[0m\u001b[1;33m\u001b[0m\u001b[0m\n\u001b[0;32m    451\u001b[0m         \u001b[0msetsize\u001b[0m \u001b[1;33m=\u001b[0m \u001b[1;36m21\u001b[0m        \u001b[1;31m# size of a small set minus size of an empty list\u001b[0m\u001b[1;33m\u001b[0m\u001b[1;33m\u001b[0m\u001b[0m\n",
      "\u001b[1;31mValueError\u001b[0m: Sample larger than population or is negative"
     ]
    }
   ],
   "source": [
    "sample(transitions, 10)"
   ]
  },
  {
   "cell_type": "code",
   "execution_count": 314,
   "id": "95fd2791-7db1-4a5b-87ed-c2c061955d1a",
   "metadata": {},
   "outputs": [],
   "source": [
    "array = np.zeros((6,6))"
   ]
  },
  {
   "cell_type": "code",
   "execution_count": 315,
   "id": "82b9cb8e-c480-40ef-abad-efac65978c86",
   "metadata": {},
   "outputs": [],
   "source": [
    "old_agent = [-4,1]\n",
    "array[old_agent[0], old_agent[1]] = 1\n",
    "old_coin = [-4,2]\n",
    "array[old_coin[0], old_coin[1]] = 2"
   ]
  },
  {
   "cell_type": "code",
   "execution_count": 316,
   "id": "36dfba80-47ff-4b3d-93c9-faf1f3e643cb",
   "metadata": {},
   "outputs": [
    {
     "data": {
      "text/plain": [
       "array([[0., 0., 0., 0., 0., 0.],\n",
       "       [0., 0., 0., 0., 0., 0.],\n",
       "       [0., 1., 2., 0., 0., 0.],\n",
       "       [0., 0., 0., 0., 0., 0.],\n",
       "       [0., 0., 0., 0., 0., 0.],\n",
       "       [0., 0., 0., 0., 0., 0.]])"
      ]
     },
     "execution_count": 316,
     "metadata": {},
     "output_type": "execute_result"
    }
   ],
   "source": [
    "array"
   ]
  },
  {
   "cell_type": "code",
   "execution_count": 317,
   "id": "380debb1-1e74-4901-afdf-c50e3ede1ff2",
   "metadata": {},
   "outputs": [],
   "source": [
    "\"\"\"\n",
    "Lyle Scott, III  // lyle@ls3.io\n",
    "Multiple ways to rotate a 2D point around the origin / a point.\n",
    "Timer benchmark results @ https://gist.github.com/LyleScott/d17e9d314fbe6fc29767d8c5c029c362\n",
    "\"\"\"\n",
    "from __future__ import print_function\n",
    "\n",
    "import math\n",
    "import numpy as np\n",
    "\n",
    "\n",
    "def rotate_origin_only(xy, radians):\n",
    "    \"\"\"Only rotate a point around the origin (0, 0).\"\"\"\n",
    "    x, y = xy\n",
    "    xx = x * math.cos(radians) + y * math.sin(radians)\n",
    "    yy = -x * math.sin(radians) + y * math.cos(radians)\n",
    "\n",
    "    return int(xx), int(yy)\n",
    "\n",
    "\n",
    "def rotate(point, degree):\n",
    "    theta = math.radians(degree)\n",
    "    \n",
    "    return rotate_origin_only(point, theta)"
   ]
  },
  {
   "cell_type": "code",
   "execution_count": 318,
   "id": "3ccc1393-0f8e-4ff7-b0a1-d1bb48a9f22f",
   "metadata": {},
   "outputs": [],
   "source": [
    "x, y = rotate(old_agent, 90)"
   ]
  },
  {
   "cell_type": "code",
   "execution_count": 319,
   "id": "518bccbc-5a46-4c04-8bfb-002c2bd6de3e",
   "metadata": {},
   "outputs": [
    {
     "data": {
      "text/plain": [
       "(0, 4)"
      ]
     },
     "execution_count": 319,
     "metadata": {},
     "output_type": "execute_result"
    }
   ],
   "source": [
    "x,y"
   ]
  },
  {
   "cell_type": "code",
   "execution_count": 320,
   "id": "9e50c8be-42f5-4011-a5b7-0214245defb3",
   "metadata": {},
   "outputs": [],
   "source": [
    "array[x,y], array[old_agent[0], old_agent[1]] = array[old_agent[0], old_agent[1]], array[x,y]"
   ]
  },
  {
   "cell_type": "code",
   "execution_count": 321,
   "id": "158477b0-ae16-4dbb-bd47-d62436adc4be",
   "metadata": {},
   "outputs": [],
   "source": [
    "x, y = rotate(old_coin, 90)"
   ]
  },
  {
   "cell_type": "code",
   "execution_count": 322,
   "id": "a29a0e16-b7f0-4437-b17f-c53e270e6796",
   "metadata": {},
   "outputs": [],
   "source": [
    "array[x,y], array[old_coin[0], old_coin[1]] = array[old_coin[0],old_coin[1]], array[x,y]"
   ]
  },
  {
   "cell_type": "code",
   "execution_count": 323,
   "id": "6103c874-d186-469f-825f-273593db0066",
   "metadata": {},
   "outputs": [
    {
     "data": {
      "text/plain": [
       "array([[0., 0., 0., 0., 1., 0.],\n",
       "       [0., 0., 0., 0., 2., 0.],\n",
       "       [0., 0., 0., 0., 0., 0.],\n",
       "       [0., 0., 0., 0., 0., 0.],\n",
       "       [0., 0., 0., 0., 0., 0.],\n",
       "       [0., 0., 0., 0., 0., 0.]])"
      ]
     },
     "execution_count": 323,
     "metadata": {},
     "output_type": "execute_result"
    }
   ],
   "source": [
    "array"
   ]
  },
  {
   "cell_type": "code",
   "execution_count": 297,
   "id": "454dc750-d5dc-430a-b8b8-c63022283dfe",
   "metadata": {},
   "outputs": [],
   "source": [
    "b = [1, 1]"
   ]
  },
  {
   "cell_type": "code",
   "execution_count": 202,
   "id": "fb5914b9-4b2d-4986-b6f0-a55f68ba71bd",
   "metadata": {},
   "outputs": [],
   "source": [
    "agent[0], agent[1] = old_agent[0]-b[0], old_agent[1]-b[1]"
   ]
  },
  {
   "cell_type": "code",
   "execution_count": 203,
   "id": "90630b69-6c36-46b5-9b8a-20122e8a5a61",
   "metadata": {},
   "outputs": [
    {
     "data": {
      "text/plain": [
       "[2, 0]"
      ]
     },
     "execution_count": 203,
     "metadata": {},
     "output_type": "execute_result"
    }
   ],
   "source": [
    "agent"
   ]
  },
  {
   "cell_type": "code",
   "execution_count": 204,
   "id": "4dbed5a2-33ff-4c2d-8c61-459307602742",
   "metadata": {},
   "outputs": [],
   "source": [
    "coin[0], coin[1] = old_coin[0]-b[0], old_coin[1]-b[1]"
   ]
  },
  {
   "cell_type": "code",
   "execution_count": 205,
   "id": "92f5640c-7abd-4790-ae08-bae6b7dcd287",
   "metadata": {},
   "outputs": [
    {
     "data": {
      "text/plain": [
       "[2, 1]"
      ]
     },
     "execution_count": 205,
     "metadata": {},
     "output_type": "execute_result"
    }
   ],
   "source": [
    "coin"
   ]
  },
  {
   "cell_type": "code",
   "execution_count": 206,
   "id": "7f4df8d1-d947-4da4-a17b-7d2bd9d78d5b",
   "metadata": {},
   "outputs": [],
   "source": [
    "x = int(agent[0] * cos(pi/180 *-90) - agent[1] * sin(pi/180 *-90))"
   ]
  },
  {
   "cell_type": "code",
   "execution_count": 207,
   "id": "3c16293d-8bc7-4799-ad9f-541f13bccdd3",
   "metadata": {
    "tags": []
   },
   "outputs": [],
   "source": [
    "y = int(agent[0] * sin(pi/180 *-90) + agent[1] * cos(pi/180 *-90))"
   ]
  },
  {
   "cell_type": "code",
   "execution_count": 208,
   "id": "24a319c7-39ad-499f-9e55-422c22bbc1ec",
   "metadata": {},
   "outputs": [
    {
     "data": {
      "text/plain": [
       "(0, -2)"
      ]
     },
     "execution_count": 208,
     "metadata": {},
     "output_type": "execute_result"
    }
   ],
   "source": [
    "x,y"
   ]
  },
  {
   "cell_type": "code",
   "execution_count": 209,
   "id": "5c504070-65ab-42f0-9404-157877271931",
   "metadata": {},
   "outputs": [],
   "source": [
    "q = int( coin[0] * cos(pi/180 *-90) - coin[1] * sin(pi/180 *-90) )"
   ]
  },
  {
   "cell_type": "code",
   "execution_count": 210,
   "id": "c1ae3c70-e2bc-4b55-ac08-8fe25b806f33",
   "metadata": {},
   "outputs": [],
   "source": [
    "p = int( coin[0] * sin(pi/180 *-90) + coin[1] * cos(pi/180 *-90) )"
   ]
  },
  {
   "cell_type": "code",
   "execution_count": 211,
   "id": "20fd75d6-ab24-44b2-b3c1-3a6a61338af8",
   "metadata": {},
   "outputs": [
    {
     "data": {
      "text/plain": [
       "(1, -2)"
      ]
     },
     "execution_count": 211,
     "metadata": {},
     "output_type": "execute_result"
    }
   ],
   "source": [
    "q,p"
   ]
  },
  {
   "cell_type": "code",
   "execution_count": 212,
   "id": "0a233998-68a0-473e-b284-797a926f57c7",
   "metadata": {},
   "outputs": [],
   "source": [
    "array[x,y], array[old_agent[0], old_agent[1]] = array[old_agent[0], old_agent[1]], array[x,y]"
   ]
  },
  {
   "cell_type": "code",
   "execution_count": 213,
   "id": "70a4ce70-8c85-4235-b837-098ebcb343f6",
   "metadata": {},
   "outputs": [],
   "source": [
    "array[q,p], array[old_coin[0], old_coin[1]] = array[old_coin[0], old_coin[1]], array[q,p]"
   ]
  },
  {
   "cell_type": "code",
   "execution_count": 214,
   "id": "bef6b730-31f8-4ff1-a541-f967a13a1d86",
   "metadata": {},
   "outputs": [
    {
     "data": {
      "text/plain": [
       "array([[0., 0., 0., 1., 0.],\n",
       "       [0., 0., 0., 2., 0.],\n",
       "       [0., 0., 0., 0., 0.],\n",
       "       [0., 0., 0., 0., 0.],\n",
       "       [0., 0., 0., 0., 0.]])"
      ]
     },
     "execution_count": 214,
     "metadata": {},
     "output_type": "execute_result"
    }
   ],
   "source": [
    "array"
   ]
  },
  {
   "cell_type": "code",
   "execution_count": null,
   "id": "b4469fe2-de48-4f1a-95a0-d4946967991b",
   "metadata": {},
   "outputs": [],
   "source": []
  }
 ],
 "metadata": {
  "kernelspec": {
   "display_name": "Python 3 (ipykernel)",
   "language": "python",
   "name": "python3"
  },
  "language_info": {
   "codemirror_mode": {
    "name": "ipython",
    "version": 3
   },
   "file_extension": ".py",
   "mimetype": "text/x-python",
   "name": "python",
   "nbconvert_exporter": "python",
   "pygments_lexer": "ipython3",
   "version": "3.9.7"
  }
 },
 "nbformat": 4,
 "nbformat_minor": 5
}
